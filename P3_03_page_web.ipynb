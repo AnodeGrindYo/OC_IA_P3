{
 "cells": [
  {
   "cell_type": "code",
   "execution_count": 30,
   "id": "32aedf68",
   "metadata": {
    "tags": [
     "meta"
    ]
   },
   "outputs": [],
   "source": [
    "import pandas as pd\n",
    "import numpy as np\n",
    "import plotly.graph_objects as go\n",
    "import ipywidgets as widgets\n",
    "from ipywidgets import interact, interactive, fixed, interact_manual, Output\n",
    "from IPython.display import display, Image\n",
    "import plotly.express as px\n",
    "import plotly.graph_objects as go\n",
    "import math\n",
    "import seaborn as sns\n",
    "import matplotlib.pyplot as plt"
   ]
  },
  {
   "cell_type": "code",
   "execution_count": 3,
   "id": "88c2ac3f",
   "metadata": {},
   "outputs": [],
   "source": [
    "df = pd.read_csv(\"df_cleaned.csv\", index_col=[0])"
   ]
  },
  {
   "cell_type": "code",
   "execution_count": 4,
   "id": "c83fb2c3",
   "metadata": {
    "tags": [
     "parameters",
     "class=purple"
    ]
   },
   "outputs": [],
   "source": [
    "flex_title = \"Santé Publique France\"\n",
    "flex_subtitle = \"Open Food Facts\""
   ]
  },
  {
   "cell_type": "code",
   "execution_count": 5,
   "id": "1b3eec7c",
   "metadata": {},
   "outputs": [],
   "source": [
    "df_filtered = df.copy()\n",
    "ALL = \"Tout\"\n",
    "axis_options = [\"energy_100g\",\n",
    "           \"fat_100g\",\n",
    "           \"saturated-fat_100g\",\n",
    "           \"trans-fat_100g\",\n",
    "           \"cholesterol_100g\",\n",
    "           \"carbohydrates_100g\",\n",
    "           \"sugars_100g\",\n",
    "           \"fiber_100g\",\n",
    "           \"proteins_100g\",\n",
    "           \"salt_100g\",\n",
    "           \"sodium_100g\",\n",
    "           \"vitamin-a_100g\",\n",
    "           \"vitamin-c_100g\",\n",
    "           \"calcium_100g\",\n",
    "             \"iron_100g\",\n",
    "             \"nutrition-score-fr_100g\"]\n",
    "\n",
    "filter_options = [\n",
    "                 \"brands\",\n",
    "                  \"pnns_groups_1\",\n",
    "                  \"nutrition_grade_fr\"]\n",
    "\n",
    "filter_trad = {\n",
    "    \"packaging\" : \"packaging\",\n",
    "    \"brands\" : \"marque\",\n",
    "    \"categories\" : \"categorie\",\n",
    "    \"pnns_groups_1\" : \"catégorie\",\n",
    "    \"pnns_groups_2\" : \"groupe PNNS (version 2)\",\n",
    "    \"main_category\" : \"categorie principale\",\n",
    "    \"nutrition_grade_fr\" : \"nutri-score\",\n",
    "    \"product_name\" :  \"dénomination\",\n",
    "    \"countries_fr\": \"pays de vente\",\n",
    "    \"ingredients_text\": \"ingrédients\",\n",
    "    \"ingredients_from_palm_oil_n\": \"nombre d'ingrédients provenant de l'huile de palme\"\n",
    "}\n",
    "nutriscore_url = {\n",
    "    \"a\": \"https://nutriscore.colruytgroup.com/colruytgroup/img/nutriscore-a.png\",\n",
    "    \"b\": \"https://nutriscore.colruytgroup.com/colruytgroup/img/nutriscore-b.png\",\n",
    "    \"c\": \"https://nutriscore.colruytgroup.com/colruytgroup/img/nutriscore-c.png\",\n",
    "    \"d\": \"https://nutriscore.colruytgroup.com/colruytgroup/img/nutriscore-d.png\",\n",
    "    \"e\": \"https://nutriscore.colruytgroup.com/colruytgroup/img/nutriscore-e.png\"\n",
    "}\n",
    "color_map = {\n",
    "        \"a\": \"#037D3F\",\n",
    "        \"b\": \"#81B52E\",\n",
    "        \"c\": \"#F6C502\",\n",
    "        \"d\": \"#E77D00\",\n",
    "        \"e\": \"#DF3C10\",\n",
    "        np.nan: \"black\"\n",
    "    }\n",
    "df_filtered[\"color\"] = df_filtered[\"nutrition_grade_fr\"].map(color_map)\n",
    "dropdowns = {}\n",
    "axis = {}\n",
    "components = []\n",
    "components_axis = []\n",
    "nb_select = widgets.HTML(value=\"Nombre de produits selectionnés : {}\".format(df_filtered.shape[0]))\n",
    "\n",
    "def on_value_change(change):\n",
    "    global df_filtered\n",
    "    dropdown_name = \"\"\n",
    "    out.clear_output()\n",
    "    with out:\n",
    "        print(\"nouvelle valeur : {}\".format(change[\"new\"]))\n",
    "        print(\"ancienne valeur : {}\".format(change[\"old\"]))\n",
    "#         print(change.owner)\n",
    "#         print(components[5])\n",
    "        if(change.owner == components[1]):\n",
    "            print(\"marque a changé !!\")\n",
    "            dropdown_name = \"brands\"\n",
    "            \n",
    "        if(change.owner == components[3]):\n",
    "            print(\"pnns_groups_1 a changé\")\n",
    "            dropdown_name = \"pnns_groups_1\"\n",
    "\n",
    "        if(change.owner == components[5]):\n",
    "            print(\"nutri-score a changé\")\n",
    "            dropdown_name = \"nutrition_grade_fr\"\n",
    "        if(change[\"new\"] == ALL):\n",
    "            dropdowns[dropdown_name][\"filter\"] = df[dropdown_name]\n",
    "            print(dropdowns[dropdown_name][\"filter\"])\n",
    "        else:\n",
    "            dropdowns[dropdown_name][\"filter\"] = change[\"new\"]\n",
    "        print(\"brand : {}\".format(dropdowns[\"brands\"][\"filter\"]))\n",
    "        print(\"pnns  : {}\".format(dropdowns[\"pnns_groups_1\"][\"filter\"]))\n",
    "        print(\"nutri : {}\".format(dropdowns[\"nutrition_grade_fr\"][\"filter\"]))\n",
    "        df_filtered = df.loc[(df[\"brands\"]==dropdowns[\"brands\"][\"filter\"]) &\n",
    "                            (df[\"pnns_groups_1\"]==dropdowns[\"pnns_groups_1\"][\"filter\"]) &\n",
    "                            (df[\"nutrition_grade_fr\"]==dropdowns[\"nutrition_grade_fr\"][\"filter\"])].copy()\n",
    "        df_filtered[\"color\"] = df_filtered[\"nutrition_grade_fr\"].map(color_map)\n",
    "        fig.data[0]['x'] = df_filtered[axis['X']['selected']]\n",
    "        fig.data[0]['y'] = df_filtered[axis['Y']['selected']]\n",
    "        fig.data[0]['marker']['color'] = df_filtered[\"color\"]\n",
    "        fig.data[0]['text'] = df_filtered[\"product_name\"]\n",
    "        nb_select.value = \"Nombre de produits selectionnés : {}\".format(df_filtered.shape[0])\n",
    "#         fig.data[0]['marker']['color'] = \"pink\"\n",
    "    pass\n",
    "\n",
    "def on_axis_change(change):\n",
    "    out.clear_output()\n",
    "    if(change.owner == components_axis[1]):\n",
    "        fig.data[0]['x'] = df_filtered[change.new]\n",
    "        axis['X']['selected'] = change.new\n",
    "        with out:\n",
    "            print(\"axe X a changé\")\n",
    "    if(change.owner == components_axis[3]):\n",
    "        fig.data[0]['y'] = df_filtered[change.new]\n",
    "        axis['Y']['selected'] = change.new\n",
    "        with out:\n",
    "            print(\"axe Y a changé\")\n",
    "    fig.data[0]['marker']['color'] = df_filtered[\"color\"]\n",
    "    return\n",
    "\n",
    "def get_filter_options(df, col):\n",
    "    return sorted(df[col].loc[df[col].notna()].unique().tolist())\n",
    "\n",
    "def make_dropdown(col):\n",
    "    lbl = widgets.HTML(value=filter_trad[col])\n",
    "    opts = get_filter_options(df, col)\n",
    "    opts.insert(0, ALL)\n",
    "    widget = widgets.Dropdown(options=opts, value=opts[0])\n",
    "    dropdown = {\n",
    "        \"name\" : col,\n",
    "        \"label\": lbl,\n",
    "        \"options\": opts,\n",
    "        \"widget\": widget,\n",
    "        \"filter\": df[col]\n",
    "    }\n",
    "    return dropdown\n",
    "\n",
    "def make_axis_dropdown(ls, name, nb_selected=0):\n",
    "    lbl = widgets.HTML(value=name)\n",
    "    opts = ls\n",
    "    widget = widgets.Dropdown(options=opts, value=opts[nb_selected])\n",
    "    dropdown = {\n",
    "        \"name\" : name,\n",
    "        \"label\": lbl,\n",
    "        \"options\": opts,\n",
    "        \"widget\": widget,\n",
    "        \"selected\": opts[nb_selected]\n",
    "    }\n",
    "    return dropdown\n",
    "\n",
    "def init_axis():\n",
    "    global axis\n",
    "    axis[\"X\"] = make_axis_dropdown(axis_options, \"axe X\", 0)\n",
    "    axis[\"X\"][\"widget\"].observe(on_axis_change, names=\"value\")\n",
    "    components_axis.extend([axis[\"X\"][\"label\"], axis[\"X\"][\"widget\"]])\n",
    "    axis[\"Y\"] = make_axis_dropdown(axis_options, \"axe Y\", -1)\n",
    "    axis[\"Y\"][\"widget\"].observe(on_axis_change, names=\"value\")\n",
    "    components_axis.extend([axis[\"Y\"][\"label\"], axis[\"Y\"][\"widget\"]])\n",
    "    \n",
    "\n",
    "def init_filter_dropdowns():\n",
    "    global dropdowns\n",
    "    global controls\n",
    "    for opt in filter_options:\n",
    "        dropdowns[opt] = make_dropdown(opt)\n",
    "        dropdowns[opt][\"widget\"].observe(on_value_change, names=\"value\")\n",
    "        components.extend([dropdowns[opt][\"label\"], dropdowns[opt][\"widget\"]])\n",
    "\n",
    "\n",
    "\n",
    "# brands = make_dropdown(\"brands\")\n",
    "init_filter_dropdowns()\n",
    "init_axis()\n",
    "# widgets.VBox([brands[\"label\"], brands[\"widget\"]])\n",
    "filt_label = widgets.HTML(value=\"<h3>Filtres : </h3>\")\n",
    "axis_label = widgets.HTML(value=\"<h3>Axes : </h3>\")\n",
    "filt_widgets = widgets.VBox(components)\n",
    "axis_widgets = widgets.VBox(components_axis)\n",
    "\n",
    "left_panel = widgets.VBox([filt_label, filt_widgets, axis_label, axis_widgets])\n",
    "\n",
    "fig = go.FigureWidget()\n",
    "plot = go.Scatter(x=[], \n",
    "                  y=[], \n",
    "                  mode=\"markers\", \n",
    "                  text=[], \n",
    "                  hoverinfo=\"text\", \n",
    "                  marker=dict(color=[], opacity=[], size=7))\n",
    "fig.add_trace(plot)\n",
    "\n",
    "margin = go.layout.Margin(l=20, r=20, b=20, t=30)\n",
    "\n",
    "fig = fig.update_layout(margin=margin)\n",
    "fig.data[0]['text'] = df_filtered[\"product_name\"]\n",
    "fig.data[0]['x'] = df_filtered[axis['X']['selected']]\n",
    "fig.data[0]['y'] = df_filtered[axis['Y']['selected']]\n",
    "fig.data[0]['marker']['color'] = df_filtered[\"color\"]\n",
    "# fig.layout.hovermode = 'closest'\n",
    "\n",
    "out = Output()\n",
    "\n",
    "# graph = widgets.VBox([fig, out])\n",
    "# graph\n",
    "# fig\n",
    "# fig_zone = widgets.HBox([left_panel, graph])\n",
    "\n",
    "# widgets.VBox([fig_zone, nb_select])"
   ]
  },
  {
   "cell_type": "markdown",
   "id": "3056731f",
   "metadata": {
    "tags": [
     "size=3"
    ]
   },
   "source": [
    "## Contrôles"
   ]
  },
  {
   "cell_type": "code",
   "execution_count": 6,
   "id": "b29fc53d",
   "metadata": {
    "tags": [
     "body"
    ]
   },
   "outputs": [
    {
     "data": {
      "application/vnd.jupyter.widget-view+json": {
       "model_id": "6a531a322f644a5cb630c0f7f0c40514",
       "version_major": 2,
       "version_minor": 0
      },
      "text/plain": [
       "VBox(children=(HTML(value='<h3>Filtres : </h3>'), VBox(children=(HTML(value='marque'), Dropdown(options=('Tout…"
      ]
     },
     "metadata": {},
     "output_type": "display_data"
    }
   ],
   "source": [
    "left_panel"
   ]
  },
  {
   "cell_type": "markdown",
   "id": "5dd85262",
   "metadata": {
    "tags": [
     "size=9"
    ]
   },
   "source": [
    "## Figure"
   ]
  },
  {
   "cell_type": "code",
   "execution_count": 7,
   "id": "3e8f1b29",
   "metadata": {
    "tags": [
     "body"
    ]
   },
   "outputs": [
    {
     "data": {
      "application/vnd.jupyter.widget-view+json": {
       "model_id": "9ff19ca400614be692516297534f0680",
       "version_major": 2,
       "version_minor": 0
      },
      "text/plain": [
       "FigureWidget({\n",
       "    'data': [{'hoverinfo': 'text',\n",
       "              'marker': {'color': [#DF3C10, black, #E77D00, …"
      ]
     },
     "metadata": {},
     "output_type": "display_data"
    }
   ],
   "source": [
    "fig"
   ]
  },
  {
   "cell_type": "code",
   "execution_count": 91,
   "id": "1c7172fe",
   "metadata": {},
   "outputs": [],
   "source": [
    "search_bar = widgets.Text(\n",
    "    value=\"\",\n",
    "    placeholder=\"Entrez l'aliment recherché\",\n",
    "    description=\"Rechercher:\",\n",
    "    disabled=False\n",
    ")\n",
    "\n",
    "search_button = widgets.Button(\n",
    "    description=\"Chercher\",\n",
    "    disabled=False,\n",
    "    button_style=\"info\",\n",
    "    tooltip=\"Cliquez pour rechercher\",\n",
    "    icon=\"search\"\n",
    ")\n",
    "\n",
    "\n",
    "def tag(tag_name, attr, content):\n",
    "    return \"<{} {}>{}</{}>\".format(tag_name, attr, content, tag_name)\n",
    "\n",
    "def tag_list(tag_name, attr, content_list):\n",
    "    res=\"\"\n",
    "    for item in content_list:\n",
    "        res+= tag(tag_name, attr, item)\n",
    "    return res\n",
    "\n",
    "\n",
    "\n",
    "def on_button_clicked(b):\n",
    "#     search_result.value = search_bar.value\n",
    "#     df_res = df.loc[df[\"product_name\"].dropna().str.contains(str(search_bar.value), case=False)]\n",
    "    df_res = df.dropna(subset=[\"product_name\"]).loc[df[\"product_name\"].dropna().str.contains(search_bar.value)]\n",
    "    res = \"\"\n",
    "    for index, row in df_res.iterrows():\n",
    "        res += make_card(row)\n",
    "#     search_result.value = make_card(df_res.iloc[0])\n",
    "    search_result.value = res\n",
    "\n",
    "search_button.on_click(on_button_clicked)\n",
    "search_tool = widgets.HBox([search_bar, search_button])\n",
    "search_result = widgets.HTML(value=\"Résultat : </br>\")\n",
    "# widgets.VBox([search_tool, search_result])"
   ]
  },
  {
   "cell_type": "code",
   "execution_count": 90,
   "id": "665a0c8d",
   "metadata": {},
   "outputs": [],
   "source": [
    "card_cols = [\n",
    "    \"product_name\",\n",
    "    \"brands\",\n",
    "    \"countries_fr\",\n",
    "    \"pnns_groups_1\",\n",
    "    \"ingredients_text\",\n",
    "    \"ingredients_from_palm_oil_n\",\n",
    "    \"nutrition_grade_fr\"\n",
    "]\n",
    "table_css = \"style:'border-collapse:collapse!important; width:100%; max-width:100%; margin-bottom:1rem;'\"\n",
    "tbl_css = \"border-collapse:collapse!important; width:100%; max-width:100%; margin-bottom:1rem;\"\n",
    "td_css = \"style:'padding:.75rem;'\"\n",
    "th_css = \"style:'text-align:inherit;'\"\n",
    "tr_css = \"style:'page-break-inside:avoid;'\"\n",
    "\n",
    "def out_img(url, width=300, height=400):\n",
    "    image = Image(url)\n",
    "    img_widget = widgets.Image(\n",
    "        value=image.data,\n",
    "        format=\"jpg\",\n",
    "        width=width,\n",
    "        height=height\n",
    "    )\n",
    "    return img_widget\n",
    "\n",
    "def plot_nutri(df, index):\n",
    "    cols = [\"fat_100g\", \n",
    "        \"carbohydrates_100g\", \n",
    "        \"saturated-fat_100g\", \n",
    "        \"sugars_100g\", \n",
    "        \"fiber_100g\", \n",
    "        \"salt_100g\", \n",
    "        \"proteins_100g\",\n",
    "        \"iron_100g\", \n",
    "        \"fruits-vegetables-nuts_100g\",\n",
    "        \"vitamin-d_100g\", \n",
    "        \"vitamin-c_100g\"]\n",
    "    df_tmp = df[cols].iloc[0].copy()\n",
    "    cols_to_keep = df_tmp.dropna().index.tolist()\n",
    "    g = sns.barplot(x = df[cols_to_keep].columns, y = df[cols_to_keep].iloc[index])\n",
    "    g.bar_label(g.containers[0])\n",
    "    g.set(ylabel=\"quantité pour 100g\", xlabel=\"nutriments\", title=\"quantité de nutriments pour 100g\")\n",
    "    myplot = plt.xticks(rotation=90)\n",
    "    return myplot\n",
    "\n",
    "def nutri_table(df, index):\n",
    "    cols = [\"fat_100g\", \n",
    "        \"carbohydrates_100g\", \n",
    "        \"saturated-fat_100g\", \n",
    "        \"sugars_100g\", \n",
    "        \"fiber_100g\", \n",
    "        \"salt_100g\", \n",
    "        \"proteins_100g\",\n",
    "        \"iron_100g\", \n",
    "        \"fruits-vegetables-nuts_100g\",\n",
    "        \"vitamin-d_100g\", \n",
    "        \"vitamin-c_100g\"]\n",
    "    df_tmp = df[cols].iloc[index].copy()\n",
    "    cols_to_keep = df_tmp.dropna().index.tolist()\n",
    "    res = df_tmp[cols_to_keep].to_frame(name=\"nutriments pour 100g\").to_html()\n",
    "    return res.replace(\"\\n\", \"\")\n",
    "\n",
    "def make_card_row(col, row):\n",
    "    th = tag(\"th\", \"scope='col' {}\".format(th_css), tag(\"b\", \"\", filter_trad[col]+\"&nbsp;&nbsp;&nbsp;\"))\n",
    "    if (row[col] != \"nan\") & (row[col] != np.nan) & (not pd.isna(row[col])):\n",
    "        td = tag(\"td\", td_css, row[col])\n",
    "    else:\n",
    "        td = tag(\"td\", td_css, \"Non disponible\")\n",
    "    content = th + td\n",
    "    tr = tag(\"tr\", tr_css, content)\n",
    "    return tr\n",
    "\n",
    "def make_nutri_row(row):\n",
    "    return\n",
    "\n",
    "def make_nutrigrade_row(row):\n",
    "    col = \"nutrition_grade_fr\"\n",
    "    th = tag(\"th\", \"scope='col' {}\".format(th_css), tag(\"b\", \"\", filter_trad[col]+\"&nbsp;&nbsp;&nbsp;\"))\n",
    "    if (row[col] != \"nan\") & (row[col] != np.nan) & (not pd.isna(row[col])):\n",
    "        td = tag(\"td\", td_css, \"<img src='{}' />\".format(nutriscore_url[row[col]]))\n",
    "    else:\n",
    "        td = tag(\"td\", td_css, \"Non disponible\")\n",
    "    content = th + td\n",
    "    tr = tag(\"tr\", tr_css, content)\n",
    "    return tr\n",
    "\n",
    "\n",
    "\n",
    "def img_row(row):\n",
    "    td = tag(\"td\", \"colspan='2' style='text-align: center'\", \"<img src='{}' />\".format(row[\"image_url\"]))\n",
    "    tr = tag(\"tr\", \"\", td)\n",
    "    return tr\n",
    "\n",
    "def make_card(row):\n",
    "    content = \"\"\n",
    "    content += img_row(row)\n",
    "    for item in card_cols:\n",
    "        if item == \"nutrition_grade_fr\":\n",
    "            item_row = make_nutrigrade_row(row)\n",
    "        else:\n",
    "            item_row = make_card_row(item, row)\n",
    "        content += item_row\n",
    "    nutrigrade = row[\"nutrition_grade_fr\"]\n",
    "    color_class = \"\"\n",
    "    if nutrigrade in [\"a\", \"b\", \"c\", \"d\", \"e\"]:\n",
    "        bg_color = color_map[nutrigrade]\n",
    "        bg_color = \"background:{}; color: #FFFFFF;\".format(bg_color)\n",
    "    else:\n",
    "        bg_color = \"#FFFFFF\"\n",
    "        bg_color = \"background:{}; color: #000000;\".format(bg_color)\n",
    "    if (nutrigrade == \"a\") | (nutrigrade == \"b\"):\n",
    "        color_class = \"bg-success\"\n",
    "    if (nutrigrade == \"c\") | (nutrigrade == \"d\"):\n",
    "        color_class = \"bg-warning\"\n",
    "    if (nutrigrade == \"e\"):\n",
    "        color_class = \"bg-danger\"\n",
    "    table = \"<table class='table {}' style='{}'>{}</table>\".format(color_class, bg_color+tbl_css, content)\n",
    "    return table\n"
   ]
  },
  {
   "cell_type": "markdown",
   "id": "df9e3667",
   "metadata": {
    "tags": [
     "size=12"
    ]
   },
   "source": [
    "## Rechercher un produit"
   ]
  },
  {
   "cell_type": "code",
   "execution_count": 92,
   "id": "ec1d3ccd",
   "metadata": {
    "tags": [
     "body"
    ]
   },
   "outputs": [
    {
     "data": {
      "application/vnd.jupyter.widget-view+json": {
       "model_id": "140833f88e124336a87e3f6dc0a2bd9f",
       "version_major": 2,
       "version_minor": 0
      },
      "text/plain": [
       "VBox(children=(HBox(children=(Text(value='', description='Rechercher:', placeholder=\"Entrez l'aliment recherch…"
      ]
     },
     "metadata": {},
     "output_type": "display_data"
    }
   ],
   "source": [
    "# widgets.HTML(value=tag(\"h2\", \"\", \"Rechercher un produit\"))\n",
    "# widgets.HTML(value='<link href=\"https://cdn.jsdelivr.net/npm/bootstrap@5.1.3/dist/css/bootstrap.min.css\" rel=\"stylesheet\" integrity=\"sha384-1BmE4kWBq78iYhFldvKuhfTAU6auU8tT94WrHftjDbrCEXSU1oBoqyl2QvZ6jIW3\" crossorigin=\"anonymous\">')\n",
    "# widgets.HTML(value='<script src=\"https://cdn.jsdelivr.net/npm/bootstrap@5.1.3/dist/js/bootstrap.bundle.min.js\" integrity=\"sha384-ka7Sk0Gln4gmtz2MlQnikT1wXgYsOg+OMhuP+IlRH9sENBO0LRn5q+8nbTov4+1p\" crossorigin=\"anonymous\"></script>')\n",
    "widgets.VBox([search_tool, search_result])"
   ]
  },
  {
   "cell_type": "code",
   "execution_count": 47,
   "id": "f6ba5c02",
   "metadata": {},
   "outputs": [
    {
     "data": {
      "text/plain": [
       "(array([0, 1, 2, 3, 4, 5, 6, 7]),\n",
       " [Text(0, 0, 'fat_100g'),\n",
       "  Text(1, 0, 'carbohydrates_100g'),\n",
       "  Text(2, 0, 'saturated-fat_100g'),\n",
       "  Text(3, 0, 'sugars_100g'),\n",
       "  Text(4, 0, 'fiber_100g'),\n",
       "  Text(5, 0, 'salt_100g'),\n",
       "  Text(6, 0, 'proteins_100g'),\n",
       "  Text(7, 0, 'iron_100g')])"
      ]
     },
     "execution_count": 47,
     "metadata": {},
     "output_type": "execute_result"
    },
    {
     "data": {
      "image/png": "[encoded data removed]",
      "text/plain": [
       "<Figure size 432x288 with 1 Axes>"
      ]
     },
     "metadata": {
      "needs_background": "light"
     },
     "output_type": "display_data"
    }
   ],
   "source": [
    "# nécessiterait une exportation pour être ajouté à la fiche produit\n",
    "\n",
    "cols = [\"fat_100g\", \n",
    "        \"carbohydrates_100g\", \n",
    "        \"saturated-fat_100g\", \n",
    "        \"sugars_100g\", \n",
    "        \"fiber_100g\", \n",
    "        \"salt_100g\", \n",
    "        \"proteins_100g\",\n",
    "        \"iron_100g\"]\n",
    "df[cols].iloc[0]\n",
    "g = sns.barplot(x = df[cols].columns, y = df[cols].iloc[0])\n",
    "g.bar_label(g.containers[0])\n",
    "g.set(ylabel=\"quantité pour 100g\", xlabel=\"nutriments\", title=\"quantité de nutriments pour 100g\")\n",
    "plt.xticks(rotation=90)"
   ]
  }
 ],
 "metadata": {
  "celltoolbar": "Tags",
  "kernelspec": {
   "display_name": "OC_P03",
   "language": "python",
   "name": "oc_p03"
  },
  "language_info": {
   "codemirror_mode": {
    "name": "ipython",
    "version": 3
   },
   "file_extension": ".py",
   "mimetype": "text/x-python",
   "name": "python",
   "nbconvert_exporter": "python",
   "pygments_lexer": "ipython3",
   "version": "3.8.12"
  }
 },
 "nbformat": 4,
 "nbformat_minor": 5
}
